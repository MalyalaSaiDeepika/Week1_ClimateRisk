{
 "cells": [
  {
   "cell_type": "code",
   "execution_count": 1,
   "id": "b11dddf8-deb0-4f35-9fc3-f466e2f9a2a6",
   "metadata": {},
   "outputs": [],
   "source": [
    "import pandas as pd\n",
    "import numpy as np\n",
    "import matplotlib.pyplot as plt\n",
    "import seaborn as sns\n"
   ]
  },
  {
   "cell_type": "code",
   "execution_count": 6,
   "id": "3c7b02ef-7fbf-46dd-9876-34dc63455078",
   "metadata": {},
   "outputs": [],
   "source": [
    "df = pd.read_csv(r\"C:\\Users\\deepu\\Downloads\\week1 climate-risk-management\\district_wise_details.csv\")\n"
   ]
  },
  {
   "cell_type": "code",
   "execution_count": 7,
   "id": "18df5547-4284-47f0-a5ea-798997dc509b",
   "metadata": {},
   "outputs": [
    {
     "name": "stdout",
     "output_type": "stream",
     "text": [
      "🔹 Original Dataset Shape: (14, 7)\n"
     ]
    },
    {
     "data": {
      "text/html": [
       "<div>\n",
       "<style scoped>\n",
       "    .dataframe tbody tr th:only-of-type {\n",
       "        vertical-align: middle;\n",
       "    }\n",
       "\n",
       "    .dataframe tbody tr th {\n",
       "        vertical-align: top;\n",
       "    }\n",
       "\n",
       "    .dataframe thead th {\n",
       "        text-align: right;\n",
       "    }\n",
       "</style>\n",
       "<table border=\"1\" class=\"dataframe\">\n",
       "  <thead>\n",
       "    <tr style=\"text-align: right;\">\n",
       "      <th></th>\n",
       "      <th>district</th>\n",
       "      <th>fatalities</th>\n",
       "      <th>no_of_camps</th>\n",
       "      <th>actual_rainfall_in_mm</th>\n",
       "      <th>normal_rainfall_in_mm</th>\n",
       "      <th>no_of_landslides</th>\n",
       "      <th>full_damaged_houses</th>\n",
       "    </tr>\n",
       "  </thead>\n",
       "  <tbody>\n",
       "    <tr>\n",
       "      <th>0</th>\n",
       "      <td>Thiruvananthapuram</td>\n",
       "      <td>11</td>\n",
       "      <td>94</td>\n",
       "      <td>373.8</td>\n",
       "      <td>142.0</td>\n",
       "      <td>0</td>\n",
       "      <td>111</td>\n",
       "    </tr>\n",
       "    <tr>\n",
       "      <th>1</th>\n",
       "      <td>Kollam</td>\n",
       "      <td>5</td>\n",
       "      <td>168</td>\n",
       "      <td>644.1</td>\n",
       "      <td>258.7</td>\n",
       "      <td>2</td>\n",
       "      <td>95</td>\n",
       "    </tr>\n",
       "    <tr>\n",
       "      <th>2</th>\n",
       "      <td>Pathanamthitta</td>\n",
       "      <td>3</td>\n",
       "      <td>4352</td>\n",
       "      <td>764.9</td>\n",
       "      <td>352.7</td>\n",
       "      <td>8</td>\n",
       "      <td>741</td>\n",
       "    </tr>\n",
       "    <tr>\n",
       "      <th>3</th>\n",
       "      <td>Alappuzha</td>\n",
       "      <td>43</td>\n",
       "      <td>2126</td>\n",
       "      <td>608.2</td>\n",
       "      <td>343.1</td>\n",
       "      <td>0</td>\n",
       "      <td>2075</td>\n",
       "    </tr>\n",
       "    <tr>\n",
       "      <th>4</th>\n",
       "      <td>Kottayam</td>\n",
       "      <td>14</td>\n",
       "      <td>788</td>\n",
       "      <td>619.2</td>\n",
       "      <td>386.0</td>\n",
       "      <td>29</td>\n",
       "      <td>76</td>\n",
       "    </tr>\n",
       "  </tbody>\n",
       "</table>\n",
       "</div>"
      ],
      "text/plain": [
       "             district  fatalities  no_of_camps  actual_rainfall_in_mm  \\\n",
       "0  Thiruvananthapuram          11           94                  373.8   \n",
       "1              Kollam           5          168                  644.1   \n",
       "2      Pathanamthitta           3         4352                  764.9   \n",
       "3           Alappuzha          43         2126                  608.2   \n",
       "4            Kottayam          14          788                  619.2   \n",
       "\n",
       "   normal_rainfall_in_mm  no_of_landslides  full_damaged_houses  \n",
       "0                  142.0                 0                  111  \n",
       "1                  258.7                 2                   95  \n",
       "2                  352.7                 8                  741  \n",
       "3                  343.1                 0                 2075  \n",
       "4                  386.0                29                   76  "
      ]
     },
     "execution_count": 7,
     "metadata": {},
     "output_type": "execute_result"
    }
   ],
   "source": [
    "print(\"🔹 Original Dataset Shape:\", df.shape)\n",
    "df.head()"
   ]
  },
  {
   "cell_type": "code",
   "execution_count": 8,
   "id": "905c78f6-8fe1-4ec3-ab5c-01feef6976c7",
   "metadata": {},
   "outputs": [
    {
     "name": "stdout",
     "output_type": "stream",
     "text": [
      "\n",
      "🔹 Missing Values Before Cleaning:\n",
      "district                 0\n",
      "fatalities               0\n",
      "no_of_camps              0\n",
      "actual_rainfall_in_mm    0\n",
      "normal_rainfall_in_mm    0\n",
      "no_of_landslides         0\n",
      "full_damaged_houses      0\n",
      "dtype: int64\n"
     ]
    }
   ],
   "source": [
    "print(\"\\n🔹 Missing Values Before Cleaning:\")\n",
    "print(df.isnull().sum())"
   ]
  },
  {
   "cell_type": "code",
   "execution_count": 9,
   "id": "15ebd865-db6d-481b-b745-5fc4b5f2eaef",
   "metadata": {},
   "outputs": [],
   "source": [
    "df.fillna(df.mean(numeric_only=True), inplace=True)\n"
   ]
  },
  {
   "cell_type": "code",
   "execution_count": 10,
   "id": "7a1de26d-0f8e-4fbd-92f7-dba2a40e3586",
   "metadata": {},
   "outputs": [
    {
     "name": "stdout",
     "output_type": "stream",
     "text": [
      "\n",
      "🔹 Missing Values After Cleaning:\n",
      "district                 0\n",
      "fatalities               0\n",
      "no_of_camps              0\n",
      "actual_rainfall_in_mm    0\n",
      "normal_rainfall_in_mm    0\n",
      "no_of_landslides         0\n",
      "full_damaged_houses      0\n",
      "dtype: int64\n"
     ]
    }
   ],
   "source": [
    "for col in df.select_dtypes(include=[\"object\"]).columns:\n",
    "    df[col] = df[col].fillna(df[col].mode()[0])\n",
    "\n",
    "print(\"\\n🔹 Missing Values After Cleaning:\")\n",
    "print(df.isnull().sum())"
   ]
  },
  {
   "cell_type": "code",
   "execution_count": 11,
   "id": "26a01fe1-25c2-4548-87cc-5b9ba38e27a9",
   "metadata": {},
   "outputs": [
    {
     "name": "stdout",
     "output_type": "stream",
     "text": [
      "\n",
      "🔹 Number of Duplicate Rows: 0\n",
      "🔹 Dataset Shape After Removing Duplicates: (14, 7)\n"
     ]
    }
   ],
   "source": [
    "print(\"\\n🔹 Number of Duplicate Rows:\", df.duplicated().sum())\n",
    "df.drop_duplicates(inplace=True)\n",
    "print(\"🔹 Dataset Shape After Removing Duplicates:\", df.shape)"
   ]
  },
  {
   "cell_type": "code",
   "execution_count": 12,
   "id": "0c37a7eb-606a-44b4-828f-672989a60486",
   "metadata": {},
   "outputs": [
    {
     "name": "stdout",
     "output_type": "stream",
     "text": [
      "\n",
      "🔹 Data Types After Cleaning:\n",
      "district                  object\n",
      "fatalities                 int64\n",
      "no_of_camps                int64\n",
      "actual_rainfall_in_mm    float64\n",
      "normal_rainfall_in_mm    float64\n",
      "no_of_landslides           int64\n",
      "full_damaged_houses        int64\n",
      "dtype: object\n"
     ]
    }
   ],
   "source": [
    "print(\"\\n🔹 Data Types After Cleaning:\")\n",
    "print(df.dtypes)"
   ]
  },
  {
   "cell_type": "code",
   "execution_count": 13,
   "id": "7843a17c-1afd-4d4f-9462-740904719779",
   "metadata": {},
   "outputs": [
    {
     "name": "stdout",
     "output_type": "stream",
     "text": [
      "\n",
      "✅ Cleaned dataset saved as 'cleaned_dataset.csv'\n"
     ]
    }
   ],
   "source": [
    "df.to_csv(\"cleaned_dataset.csv\", index=False)\n",
    "print(\"\\n✅ Cleaned dataset saved as 'cleaned_dataset.csv'\")"
   ]
  },
  {
   "cell_type": "code",
   "execution_count": null,
   "id": "86304038-651d-490d-9508-7b73641593b7",
   "metadata": {},
   "outputs": [],
   "source": []
  }
 ],
 "metadata": {
  "kernelspec": {
   "display_name": "Python 3 (ipykernel)",
   "language": "python",
   "name": "python3"
  },
  "language_info": {
   "codemirror_mode": {
    "name": "ipython",
    "version": 3
   },
   "file_extension": ".py",
   "mimetype": "text/x-python",
   "name": "python",
   "nbconvert_exporter": "python",
   "pygments_lexer": "ipython3",
   "version": "3.10.0"
  }
 },
 "nbformat": 4,
 "nbformat_minor": 5
}
